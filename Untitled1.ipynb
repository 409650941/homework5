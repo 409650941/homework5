{
  "nbformat": 4,
  "nbformat_minor": 0,
  "metadata": {
    "colab": {
      "name": "Untitled1.ipynb",
      "provenance": [],
      "authorship_tag": "ABX9TyOOfvqrxmfFjh9fX4zNLA4G",
      "include_colab_link": true
    },
    "kernelspec": {
      "name": "python3",
      "display_name": "Python 3"
    },
    "language_info": {
      "name": "python"
    }
  },
  "cells": [
    {
      "cell_type": "markdown",
      "metadata": {
        "id": "view-in-github",
        "colab_type": "text"
      },
      "source": [
        "<a href=\"https://colab.research.google.com/github/409650941/homework5/blob/main/Untitled1.ipynb\" target=\"_parent\"><img src=\"https://colab.research.google.com/assets/colab-badge.svg\" alt=\"Open In Colab\"/></a>"
      ]
    },
    {
      "cell_type": "code",
      "execution_count": 16,
      "metadata": {
        "colab": {
          "base_uri": "https://localhost:8080/"
        },
        "id": "2r47ZAndohDp",
        "outputId": "25f70689-5bdd-45c7-ad71-614866f2e204"
      },
      "outputs": [
        {
          "output_type": "stream",
          "name": "stdout",
          "text": [
            "金洲勇士現在有的球員陣容= ['Curry', 'Green', 'Durant', 'Looney', 'Thompson']\n",
            "勇士今天最高的三個得分為 [30, 22, 28] 球員分別為 ['Curry', 'Durant', 'Thompson']\n",
            "勇士今天最低的兩個得分為 [5, 6] 球員分別為 ['Green', 'Looney']\n",
            "勇士今天最高得分為 Curry 分數為 30\n",
            "勇士今天最低得分為 Green 分數為 5\n"
          ]
        }
      ],
      "source": [
        "Player=['Curry','Green','Durant','Looney','Thompson']\n",
        "Fraction=[30,5,22,6,28]\n",
        "print(\"金洲勇士現在有的球員陣容=\",Player)\n",
        "print(\"勇士今天最高的三個得分為\",Fraction[0:6:2],\"球員分別為\",Player[0:6:2])\n",
        "print(\"勇士今天最低的兩個得分為\",Fraction[1:5:2],\"球員分別為\",Player[1:5:2])\n",
        "print(\"勇士今天最高得分為\",Player[0],\"分數為\",max(Fraction))\n",
        "print(\"勇士今天最低得分為\",Player[1],\"分數為\",min(Fraction))\n"
      ]
    },
    {
      "cell_type": "code",
      "source": [
        ""
      ],
      "metadata": {
        "id": "IGFvKwK7qQsi"
      },
      "execution_count": null,
      "outputs": []
    }
  ]
}